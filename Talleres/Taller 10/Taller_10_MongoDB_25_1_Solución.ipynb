{
  "cells": [
    {
      "cell_type": "markdown",
      "metadata": {
        "id": "OJCc5mm-pwll"
      },
      "source": [
        "Para empezar a utilizar mongodb desde 0, vamos a partir realizando los siguientes pasos:\n",
        "\n",
        "\n",
        "1.   Instalaremos $\\texttt{mongodb}$\n",
        "2.   Inicializaremos el proceso $\\texttt{mongodb}$\n",
        "3.   Instalaremos el comando $\\texttt{gdown}$ para bajar la base de datos en formato json de google drive.\n",
        "4.   Importaremos los datos por linea de comando. Dejaremos los datos en la base de datos $\\texttt{local}$, en la colección $\\texttt{pokedex}$, y le informaremos al comando que los datos vienen como una arreglo de jsons.\n",
        "\n",
        "\n"
      ]
    },
    {
      "cell_type": "code",
      "execution_count": 1,
      "metadata": {
        "colab": {
          "base_uri": "https://localhost:8080/"
        },
        "id": "jez7M4Z9-49z",
        "outputId": "aee64655-b726-4921-f534-dc29c48849a5"
      },
      "outputs": [
        {
          "output_type": "stream",
          "name": "stdout",
          "text": [
            "\u001b[33m\r0% [Working]\u001b[0m\r            \rHit:1 https://developer.download.nvidia.com/compute/cuda/repos/ubuntu2204/x86_64  InRelease\n",
            "\u001b[33m\r0% [Waiting for headers] [Waiting for headers] [Connected to cloud.r-project.or\u001b[0m\r                                                                               \rGet:2 http://security.ubuntu.com/ubuntu jammy-security InRelease [129 kB]\n",
            "\r                                                                               \rGet:3 https://cloud.r-project.org/bin/linux/ubuntu jammy-cran40/ InRelease [3,632 B]\n",
            "\r                                                                               \rGet:4 https://r2u.stat.illinois.edu/ubuntu jammy InRelease [6,555 B]\n",
            "Hit:5 http://archive.ubuntu.com/ubuntu jammy InRelease\n",
            "Get:6 http://archive.ubuntu.com/ubuntu jammy-updates InRelease [128 kB]\n",
            "Hit:7 https://ppa.launchpadcontent.net/deadsnakes/ppa/ubuntu jammy InRelease\n",
            "Hit:8 https://ppa.launchpadcontent.net/graphics-drivers/ppa/ubuntu jammy InRelease\n",
            "Hit:9 https://ppa.launchpadcontent.net/ubuntugis/ppa/ubuntu jammy InRelease\n",
            "Get:10 http://archive.ubuntu.com/ubuntu jammy-backports InRelease [127 kB]\n",
            "Get:11 https://r2u.stat.illinois.edu/ubuntu jammy/main amd64 Packages [2,750 kB]\n",
            "Get:12 https://r2u.stat.illinois.edu/ubuntu jammy/main all Packages [9,059 kB]\n",
            "Get:13 http://security.ubuntu.com/ubuntu jammy-security/main amd64 Packages [3,036 kB]\n",
            "Get:14 http://security.ubuntu.com/ubuntu jammy-security/restricted amd64 Packages [4,572 kB]\n",
            "Get:15 http://archive.ubuntu.com/ubuntu jammy-updates/main amd64 Packages [3,347 kB]\n",
            "Get:16 http://archive.ubuntu.com/ubuntu jammy-updates/restricted amd64 Packages [4,726 kB]\n",
            "Fetched 27.9 MB in 7s (4,059 kB/s)\n",
            "Reading package lists... Done\n",
            "Building dependency tree... Done\n",
            "Reading state information... Done\n",
            "35 packages can be upgraded. Run 'apt list --upgradable' to see them.\n",
            "\u001b[1;33mW: \u001b[0mSkipping acquire of configured file 'main/source/Sources' as repository 'https://r2u.stat.illinois.edu/ubuntu jammy InRelease' does not seem to provide it (sources.list entry misspelt?)\u001b[0m\n",
            "Reading package lists... Done\n",
            "Building dependency tree... Done\n",
            "Reading state information... Done\n",
            "lsb-release is already the newest version (11.1.0ubuntu4).\n",
            "lsb-release set to manually installed.\n",
            "ca-certificates is already the newest version (20240203~22.04.1).\n",
            "curl is already the newest version (7.81.0-1ubuntu1.20).\n",
            "software-properties-common is already the newest version (0.99.22.9).\n",
            "wget is already the newest version (1.21.2-2ubuntu1.1).\n",
            "gnupg2 is already the newest version (2.2.27-3ubuntu2.3).\n",
            "The following NEW packages will be installed:\n",
            "  apt-transport-https\n",
            "0 upgraded, 1 newly installed, 0 to remove and 35 not upgraded.\n",
            "Need to get 1,510 B of archives.\n",
            "After this operation, 170 kB of additional disk space will be used.\n",
            "Get:1 http://archive.ubuntu.com/ubuntu jammy-updates/universe amd64 apt-transport-https all 2.4.14 [1,510 B]\n",
            "Fetched 1,510 B in 0s (6,698 B/s)\n",
            "Selecting previously unselected package apt-transport-https.\n",
            "(Reading database ... 126308 files and directories currently installed.)\n",
            "Preparing to unpack .../apt-transport-https_2.4.14_all.deb ...\n",
            "Unpacking apt-transport-https (2.4.14) ...\n",
            "Setting up apt-transport-https (2.4.14) ...\n",
            "deb [ arch=amd64,arm64 ] https://repo.mongodb.org/apt/ubuntu jammy/mongodb-org/6.0 multiverse\n",
            "Hit:1 http://security.ubuntu.com/ubuntu jammy-security InRelease\n",
            "Hit:2 https://cloud.r-project.org/bin/linux/ubuntu jammy-cran40/ InRelease\n",
            "Hit:3 https://developer.download.nvidia.com/compute/cuda/repos/ubuntu2204/x86_64  InRelease\n",
            "Hit:4 http://archive.ubuntu.com/ubuntu jammy InRelease\n",
            "Get:5 https://repo.mongodb.org/apt/ubuntu jammy/mongodb-org/6.0 InRelease [4,009 B]\n",
            "Hit:6 https://r2u.stat.illinois.edu/ubuntu jammy InRelease\n",
            "Hit:7 http://archive.ubuntu.com/ubuntu jammy-updates InRelease\n",
            "Hit:8 http://archive.ubuntu.com/ubuntu jammy-backports InRelease\n",
            "Hit:9 https://ppa.launchpadcontent.net/deadsnakes/ppa/ubuntu jammy InRelease\n",
            "Hit:10 https://ppa.launchpadcontent.net/graphics-drivers/ppa/ubuntu jammy InRelease\n",
            "Hit:11 https://ppa.launchpadcontent.net/ubuntugis/ppa/ubuntu jammy InRelease\n",
            "Get:12 https://repo.mongodb.org/apt/ubuntu jammy/mongodb-org/6.0/multiverse amd64 Packages [99.4 kB]\n",
            "Get:13 https://repo.mongodb.org/apt/ubuntu jammy/mongodb-org/6.0/multiverse arm64 Packages [96.0 kB]\n",
            "Fetched 199 kB in 3s (76.6 kB/s)\n",
            "Reading package lists... Done\n",
            "Building dependency tree... Done\n",
            "Reading state information... Done\n",
            "35 packages can be upgraded. Run 'apt list --upgradable' to see them.\n",
            "\u001b[1;33mW: \u001b[0mSkipping acquire of configured file 'main/source/Sources' as repository 'https://r2u.stat.illinois.edu/ubuntu jammy InRelease' does not seem to provide it (sources.list entry misspelt?)\u001b[0m\n",
            "Reading package lists... Done\n",
            "Building dependency tree... Done\n",
            "Reading state information... Done\n",
            "The following additional packages will be installed:\n",
            "  mongodb-database-tools mongodb-mongosh mongodb-org-database\n",
            "  mongodb-org-database-tools-extra mongodb-org-mongos mongodb-org-server\n",
            "  mongodb-org-shell mongodb-org-tools\n",
            "The following NEW packages will be installed:\n",
            "  mongodb-database-tools mongodb-mongosh mongodb-org mongodb-org-database\n",
            "  mongodb-org-database-tools-extra mongodb-org-mongos mongodb-org-server\n",
            "  mongodb-org-shell mongodb-org-tools\n",
            "0 upgraded, 9 newly installed, 0 to remove and 35 not upgraded.\n",
            "Need to get 170 MB of archives.\n",
            "After this operation, 525 MB of additional disk space will be used.\n",
            "Get:1 https://repo.mongodb.org/apt/ubuntu jammy/mongodb-org/6.0/multiverse amd64 mongodb-database-tools amd64 100.12.2 [58.9 MB]\n",
            "Get:2 https://repo.mongodb.org/apt/ubuntu jammy/mongodb-org/6.0/multiverse amd64 mongodb-mongosh amd64 2.5.3 [56.9 MB]\n",
            "Get:3 https://repo.mongodb.org/apt/ubuntu jammy/mongodb-org/6.0/multiverse amd64 mongodb-org-shell amd64 6.0.24 [2,982 B]\n",
            "Get:4 https://repo.mongodb.org/apt/ubuntu jammy/mongodb-org/6.0/multiverse amd64 mongodb-org-server amd64 6.0.24 [31.7 MB]\n",
            "Get:5 https://repo.mongodb.org/apt/ubuntu jammy/mongodb-org/6.0/multiverse amd64 mongodb-org-mongos amd64 6.0.24 [22.7 MB]\n",
            "Get:6 https://repo.mongodb.org/apt/ubuntu jammy/mongodb-org/6.0/multiverse amd64 mongodb-org-database-tools-extra amd64 6.0.24 [7,774 B]\n",
            "Get:7 https://repo.mongodb.org/apt/ubuntu jammy/mongodb-org/6.0/multiverse amd64 mongodb-org-database amd64 6.0.24 [3,426 B]\n",
            "Get:8 https://repo.mongodb.org/apt/ubuntu jammy/mongodb-org/6.0/multiverse amd64 mongodb-org-tools amd64 6.0.24 [2,768 B]\n",
            "Get:9 https://repo.mongodb.org/apt/ubuntu jammy/mongodb-org/6.0/multiverse amd64 mongodb-org amd64 6.0.24 [2,800 B]\n",
            "Fetched 170 MB in 3s (58.9 MB/s)\n",
            "Selecting previously unselected package mongodb-database-tools.\n",
            "(Reading database ... 126312 files and directories currently installed.)\n",
            "Preparing to unpack .../0-mongodb-database-tools_100.12.2_amd64.deb ...\n",
            "Unpacking mongodb-database-tools (100.12.2) ...\n",
            "Selecting previously unselected package mongodb-mongosh.\n",
            "Preparing to unpack .../1-mongodb-mongosh_2.5.3_amd64.deb ...\n",
            "Unpacking mongodb-mongosh (2.5.3) ...\n",
            "Selecting previously unselected package mongodb-org-shell.\n",
            "Preparing to unpack .../2-mongodb-org-shell_6.0.24_amd64.deb ...\n",
            "Unpacking mongodb-org-shell (6.0.24) ...\n",
            "Selecting previously unselected package mongodb-org-server.\n",
            "Preparing to unpack .../3-mongodb-org-server_6.0.24_amd64.deb ...\n",
            "Unpacking mongodb-org-server (6.0.24) ...\n",
            "Selecting previously unselected package mongodb-org-mongos.\n",
            "Preparing to unpack .../4-mongodb-org-mongos_6.0.24_amd64.deb ...\n",
            "Unpacking mongodb-org-mongos (6.0.24) ...\n",
            "Selecting previously unselected package mongodb-org-database-tools-extra.\n",
            "Preparing to unpack .../5-mongodb-org-database-tools-extra_6.0.24_amd64.deb ...\n",
            "Unpacking mongodb-org-database-tools-extra (6.0.24) ...\n",
            "Selecting previously unselected package mongodb-org-database.\n",
            "Preparing to unpack .../6-mongodb-org-database_6.0.24_amd64.deb ...\n",
            "Unpacking mongodb-org-database (6.0.24) ...\n",
            "Selecting previously unselected package mongodb-org-tools.\n",
            "Preparing to unpack .../7-mongodb-org-tools_6.0.24_amd64.deb ...\n",
            "Unpacking mongodb-org-tools (6.0.24) ...\n",
            "Selecting previously unselected package mongodb-org.\n",
            "Preparing to unpack .../8-mongodb-org_6.0.24_amd64.deb ...\n",
            "Unpacking mongodb-org (6.0.24) ...\n",
            "Setting up mongodb-mongosh (2.5.3) ...\n",
            "Setting up mongodb-org-server (6.0.24) ...\n",
            "Adding system user `mongodb' (UID 104) ...\n",
            "Adding new user `mongodb' (UID 104) with group `nogroup' ...\n",
            "Not creating home directory `/home/mongodb'.\n",
            "Adding group `mongodb' (GID 107) ...\n",
            "Done.\n",
            "Adding user `mongodb' to group `mongodb' ...\n",
            "Adding user mongodb to group mongodb\n",
            "Done.\n",
            "System has not been booted with systemd as init system (PID 1). Can't operate.\n",
            "Failed to connect to bus: Host is down\n",
            "Setting up mongodb-org-shell (6.0.24) ...\n",
            "Setting up mongodb-database-tools (100.12.2) ...\n",
            "Setting up mongodb-org-mongos (6.0.24) ...\n",
            "Setting up mongodb-org-database-tools-extra (6.0.24) ...\n",
            "Setting up mongodb-org-database (6.0.24) ...\n",
            "Setting up mongodb-org-tools (6.0.24) ...\n",
            "Setting up mongodb-org (6.0.24) ...\n",
            "Processing triggers for man-db (2.10.2-1) ...\n",
            "about to fork child process, waiting until server is ready for connections.\n",
            "forked process: 4765\n",
            "child process started successfully, parent exiting\n"
          ]
        }
      ],
      "source": [
        "\n",
        "!apt update\n",
        "!apt install wget curl gnupg2 software-properties-common apt-transport-https ca-certificates lsb-release\n",
        "!curl -fsSL https://www.mongodb.org/static/pgp/server-6.0.asc|sudo gpg --dearmor -o /etc/apt/trusted.gpg.d/mongodb-6.gpg\n",
        "!echo \"deb [ arch=amd64,arm64 ] https://repo.mongodb.org/apt/ubuntu $(lsb_release -cs)/mongodb-org/6.0 multiverse\" | tee /etc/apt/sources.list.d/mongodb-org-6.0.list\n",
        "!apt update\n",
        "!apt install mongodb-org\n",
        "!mkdir /data\n",
        "!mkdir /data/db\n",
        "!mongod --fork --logpath /var/log/mongodb/mongod.log"
      ]
    },
    {
      "cell_type": "code",
      "execution_count": 2,
      "metadata": {
        "colab": {
          "base_uri": "https://localhost:8080/"
        },
        "id": "F3FBHYX9m330",
        "outputId": "26cd3f3a-9898-4415-878e-01176d6fa54f"
      },
      "outputs": [
        {
          "output_type": "stream",
          "name": "stdout",
          "text": [
            "Downloading...\n",
            "From: https://drive.google.com/uc?id=108aLE4mFE5bZYitFfX5c14Qj_aYA5MO_\n",
            "To: /content/pokedex.json\n",
            "\r  0% 0.00/2.95M [00:00<?, ?B/s]\r100% 2.95M/2.95M [00:00<00:00, 109MB/s]\n",
            "2025-06-24T21:57:21.300+0000\tconnected to: mongodb://localhost/\n",
            "2025-06-24T21:57:22.046+0000\t809 document(s) imported successfully. 0 document(s) failed to import.\n"
          ]
        }
      ],
      "source": [
        "\n",
        "!gdown https://drive.google.com/uc?id=108aLE4mFE5bZYitFfX5c14Qj_aYA5MO_\n",
        "!mongoimport --db local --collection pokedex --jsonArray < pokedex.json"
      ]
    },
    {
      "cell_type": "markdown",
      "metadata": {
        "id": "fcy-Y8V9pqRS"
      },
      "source": [
        "A continuación importaremos la librería de mongo para python, crearemos un cliente que se conectara a $\\texttt{localhost}$ por defecto, nos conectaremos a la base local, y luego a la colección pokedex la cual almacenaremos en la variable $\\texttt{collection}$."
      ]
    },
    {
      "cell_type": "code",
      "source": [
        "pip install pymongo"
      ],
      "metadata": {
        "colab": {
          "base_uri": "https://localhost:8080/"
        },
        "id": "W6dECRbYCBNt",
        "outputId": "34ead3c1-a366-4e56-f88b-1f3eb085a6b3"
      },
      "execution_count": 3,
      "outputs": [
        {
          "output_type": "stream",
          "name": "stdout",
          "text": [
            "Collecting pymongo\n",
            "  Downloading pymongo-4.13.2-cp311-cp311-manylinux_2_17_x86_64.manylinux2014_x86_64.whl.metadata (22 kB)\n",
            "Collecting dnspython<3.0.0,>=1.16.0 (from pymongo)\n",
            "  Downloading dnspython-2.7.0-py3-none-any.whl.metadata (5.8 kB)\n",
            "Downloading pymongo-4.13.2-cp311-cp311-manylinux_2_17_x86_64.manylinux2014_x86_64.whl (1.4 MB)\n",
            "\u001b[2K   \u001b[90m━━━━━━━━━━━━━━━━━━━━━━━━━━━━━━━━━━━━━━━━\u001b[0m \u001b[32m1.4/1.4 MB\u001b[0m \u001b[31m19.0 MB/s\u001b[0m eta \u001b[36m0:00:00\u001b[0m\n",
            "\u001b[?25hDownloading dnspython-2.7.0-py3-none-any.whl (313 kB)\n",
            "\u001b[2K   \u001b[90m━━━━━━━━━━━━━━━━━━━━━━━━━━━━━━━━━━━━━━━━\u001b[0m \u001b[32m313.6/313.6 kB\u001b[0m \u001b[31m15.6 MB/s\u001b[0m eta \u001b[36m0:00:00\u001b[0m\n",
            "\u001b[?25hInstalling collected packages: dnspython, pymongo\n",
            "Successfully installed dnspython-2.7.0 pymongo-4.13.2\n"
          ]
        }
      ]
    },
    {
      "cell_type": "code",
      "execution_count": 4,
      "metadata": {
        "id": "-duLZ321nB6e"
      },
      "outputs": [],
      "source": [
        "from pymongo import MongoClient\n",
        "client = MongoClient()\n",
        "client.list_database_names() # ['admin', 'local']\n",
        "db = client['local']\n",
        "collection = db['pokedex']"
      ]
    },
    {
      "cell_type": "markdown",
      "metadata": {
        "id": "H1qnSiAzq5gm"
      },
      "source": [
        "Para partir, podemos listar toda la colección usando el comando $\\texttt{collection.find({})}$. Para no saturar la salida, nos limitaremos a mirar el primero de los registros."
      ]
    },
    {
      "cell_type": "code",
      "execution_count": 5,
      "metadata": {
        "colab": {
          "base_uri": "https://localhost:8080/"
        },
        "id": "8NX7SGoRpD2Q",
        "outputId": "071a14fb-2a90-4b71-b28c-4263cdc66ab1"
      },
      "outputs": [
        {
          "output_type": "stream",
          "name": "stdout",
          "text": [
            "{'Abilities': ['Overgrow', 'Chlorophyll'],\n",
            " 'Attack': 49,\n",
            " 'Capture Rate': 45,\n",
            " 'Category': 'Seed Pokémon',\n",
            " 'Defense': 49,\n",
            " 'Egg Steps': 5120,\n",
            " 'Exp Group': 'Medium Slow',\n",
            " 'HP': 45,\n",
            " 'Height (ft)': '2\\'04\"',\n",
            " 'Height (m)': 0.7,\n",
            " 'Id': '001',\n",
            " 'Moves': {'Double-Edge': {'Accuracy': 100,\n",
            "                           'Description': 'A reckless, life-risking tackle. '\n",
            "                                          'This also damages the user quite a '\n",
            "                                          'lot.',\n",
            "                           'Effect %': '--',\n",
            "                           'Level': 27,\n",
            "                           'PP': 15,\n",
            "                           'Power': 120,\n",
            "                           'Type': 'Normal'},\n",
            "           'Growl': {'Accuracy': 100,\n",
            "                     'Description': 'The user growls in an endearing way, '\n",
            "                                    'making opposing Pokémon less wary. This '\n",
            "                                    'lowers their Attack stat.',\n",
            "                     'Effect %': '--',\n",
            "                     'Level': 3,\n",
            "                     'PP': 40,\n",
            "                     'Power': '--',\n",
            "                     'Type': 'Normal'},\n",
            "           'Growth': {'Accuracy': '--',\n",
            "                      'Description': \"The user's body grows all at once, \"\n",
            "                                     'raising the Attack and Sp. Atk stats.',\n",
            "                      'Effect %': '--',\n",
            "                      'Level': 25,\n",
            "                      'PP': 20,\n",
            "                      'Power': '--',\n",
            "                      'Type': 'Normal'},\n",
            "           'Poison Powder': {'Accuracy': 75,\n",
            "                             'Description': 'The user scatters a cloud of '\n",
            "                                            'poisonous dust that poisons the '\n",
            "                                            'target.',\n",
            "                             'Effect %': '--',\n",
            "                             'Level': 13,\n",
            "                             'PP': 35,\n",
            "                             'Power': '--',\n",
            "                             'Type': 'Poison'},\n",
            "           'Razor Leaf': {'Accuracy': 95,\n",
            "                          'Description': 'Sharp-edged leaves are launched to '\n",
            "                                         'slash at the opposing Pokémon. '\n",
            "                                         'Critical hits land more easily.',\n",
            "                          'Effect %': '--',\n",
            "                          'Level': 19,\n",
            "                          'PP': 25,\n",
            "                          'Power': 55,\n",
            "                          'Type': 'Grass'},\n",
            "           'Seed Bomb': {'Accuracy': 100,\n",
            "                         'Description': 'The user slams a barrage of '\n",
            "                                        'hard-shelled seeds down on the target '\n",
            "                                        'from above.',\n",
            "                         'Effect %': '--',\n",
            "                         'Level': 37,\n",
            "                         'PP': 15,\n",
            "                         'Power': 80,\n",
            "                         'Type': 'Grass'},\n",
            "           'Sleep Powder': {'Accuracy': 75,\n",
            "                            'Description': 'The user scatters a big cloud of '\n",
            "                                           'sleep-inducing dust around the '\n",
            "                                           'target.',\n",
            "                            'Effect %': '--',\n",
            "                            'Level': 13,\n",
            "                            'PP': 15,\n",
            "                            'Power': '--',\n",
            "                            'Type': 'Grass'},\n",
            "           'Sweet Scent': {'Accuracy': 100,\n",
            "                           'Description': 'A sweet scent that harshly lowers '\n",
            "                                          \"opposing Pokémon's evasiveness.\",\n",
            "                           'Effect %': '--',\n",
            "                           'Level': 21,\n",
            "                           'PP': 20,\n",
            "                           'Power': '--',\n",
            "                           'Type': 'Normal'},\n",
            "           'Synthesis': {'Accuracy': '--',\n",
            "                         'Description': 'The user restores its own HP. The '\n",
            "                                        'amount of HP regained varies with the '\n",
            "                                        'weather.',\n",
            "                         'Effect %': '--',\n",
            "                         'Level': 33,\n",
            "                         'PP': 5,\n",
            "                         'Power': '--',\n",
            "                         'Type': 'Grass'},\n",
            "           'Tackle': {'Accuracy': 100,\n",
            "                      'Description': 'A physical attack in which the user '\n",
            "                                     'charges and slams into the target with '\n",
            "                                     'its whole body.',\n",
            "                      'Effect %': '--',\n",
            "                      'Level': '—',\n",
            "                      'PP': 35,\n",
            "                      'Power': 40,\n",
            "                      'Type': 'Normal'},\n",
            "           'Take Down': {'Accuracy': 85,\n",
            "                         'Description': 'A reckless, full-body charge attack '\n",
            "                                        'for slamming into the target. This '\n",
            "                                        'also damages the user a little.',\n",
            "                         'Effect %': '--',\n",
            "                         'Level': 15,\n",
            "                         'PP': 20,\n",
            "                         'Power': 90,\n",
            "                         'Type': 'Normal'},\n",
            "           'Vine Whip': {'Accuracy': 100,\n",
            "                         'Description': 'The target is struck with slender, '\n",
            "                                        'whiplike vines to inflict damage.',\n",
            "                         'Effect %': '--',\n",
            "                         'Level': 9,\n",
            "                         'PP': 25,\n",
            "                         'Power': 45,\n",
            "                         'Type': 'Grass'},\n",
            "           'Worry Seed': {'Accuracy': 100,\n",
            "                          'Description': 'A seed that causes worry is planted '\n",
            "                                         'on the target. It prevents sleep by '\n",
            "                                         \"making the target's Ability \"\n",
            "                                         'Insomnia.',\n",
            "                          'Effect %': '--',\n",
            "                          'Level': 31,\n",
            "                          'PP': 10,\n",
            "                          'Power': '--',\n",
            "                          'Type': 'Grass'}},\n",
            " 'Name': 'Bulbasaur',\n",
            " 'Sp. Attack': 65,\n",
            " 'Sp. Defense': 65,\n",
            " 'Speed': 45,\n",
            " 'Total': 318,\n",
            " 'Type 1': 'Grass',\n",
            " 'Type 2': 'Poison',\n",
            " 'Weight (kg)': 6.9,\n",
            " 'Weight (lbs)': 15.2,\n",
            " '_id': ObjectId('685b1f410a69551ca429d373')}\n"
          ]
        }
      ],
      "source": [
        "import pprint\n",
        "for pokemon in collection.find({}).limit(1):\n",
        "    pprint.pprint(pokemon)"
      ]
    },
    {
      "cell_type": "markdown",
      "metadata": {
        "id": "dLU42N8srWv_"
      },
      "source": [
        "Fijense que aparte de los datos básicos del pokemon, también se presentan las habilidades (una lista de strings), y los movimientos (un arreglo asociativo/diccionario de los movimientos y sus detalles).\n",
        "\n",
        "Si queremos ahora listar los pokemones que se llaman $\\texttt{Charmander}$ podemos hacer la siguiente consulta:"
      ]
    },
    {
      "cell_type": "code",
      "execution_count": 6,
      "metadata": {
        "colab": {
          "base_uri": "https://localhost:8080/"
        },
        "id": "BgYUDtAUtdkL",
        "outputId": "271d46a7-db60-4a03-8169-fb5f7263b490"
      },
      "outputs": [
        {
          "output_type": "stream",
          "name": "stdout",
          "text": [
            "{'Abilities': ['Blaze', 'Solar Power'],\n",
            " 'Attack': 52,\n",
            " 'Capture Rate': 45,\n",
            " 'Category': 'Lizard Pokémon',\n",
            " 'Defense': 43,\n",
            " 'Egg Steps': 5120,\n",
            " 'Exp Group': 'Medium Slow',\n",
            " 'HP': 39,\n",
            " 'Height (ft)': '2\\'00\"',\n",
            " 'Height (m)': 0.6,\n",
            " 'Id': '004',\n",
            " 'Moves': {'Dragon Rage': {'Accuracy': 100,\n",
            "                           'Description': 'This attack hits the target with a '\n",
            "                                          'shock wave of pure rage. This '\n",
            "                                          'attack always inflicts 40 HP '\n",
            "                                          'damage.',\n",
            "                           'Effect %': '--',\n",
            "                           'Level': 16,\n",
            "                           'PP': 10,\n",
            "                           'Power': '??',\n",
            "                           'Type': 'Dragon'},\n",
            "           'Ember': {'Accuracy': 100,\n",
            "                     'Description': 'The target is attacked with small flames. '\n",
            "                                    'This may also leave the target with a '\n",
            "                                    'burn.',\n",
            "                     'Effect %': 10,\n",
            "                     'Level': 7,\n",
            "                     'PP': 25,\n",
            "                     'Power': 40,\n",
            "                     'Type': 'Fire'},\n",
            "           'Fire Fang': {'Accuracy': 95,\n",
            "                         'Description': 'The user bites with flame-cloaked '\n",
            "                                        'fangs. This may also make the target '\n",
            "                                        'flinch or leave it with a burn.',\n",
            "                         'Effect %': 20,\n",
            "                         'Level': 19,\n",
            "                         'PP': 15,\n",
            "                         'Power': 65,\n",
            "                         'Type': 'Fire'},\n",
            "           'Fire Spin': {'Accuracy': 85,\n",
            "                         'Description': 'The target becomes trapped within a '\n",
            "                                        'fierce vortex of fire that rages for '\n",
            "                                        'four to five turns.',\n",
            "                         'Effect %': 100,\n",
            "                         'Level': 37,\n",
            "                         'PP': 15,\n",
            "                         'Power': 35,\n",
            "                         'Type': 'Fire'},\n",
            "           'Flame Burst': {'Accuracy': 100,\n",
            "                           'Description': 'The user attacks the target with a '\n",
            "                                          'bursting flame. The bursting flame '\n",
            "                                          'damages Pokémon next to the target '\n",
            "                                          'as well.',\n",
            "                           'Effect %': '--',\n",
            "                           'Level': 25,\n",
            "                           'PP': 15,\n",
            "                           'Power': 70,\n",
            "                           'Type': 'Fire'},\n",
            "           'Flamethrower': {'Accuracy': 100,\n",
            "                            'Description': 'The target is scorched with an '\n",
            "                                           'intense blast of fire. This may '\n",
            "                                           'also leave the target with a burn.',\n",
            "                            'Effect %': 10,\n",
            "                            'Level': 34,\n",
            "                            'PP': 15,\n",
            "                            'Power': 90,\n",
            "                            'Type': 'Fire'},\n",
            "           'Growl': {'Accuracy': 100,\n",
            "                     'Description': 'The user growls in an endearing way, '\n",
            "                                    'making opposing Pokémon less wary. This '\n",
            "                                    'lowers their Attack stat.',\n",
            "                     'Effect %': '--',\n",
            "                     'Level': '—',\n",
            "                     'PP': 40,\n",
            "                     'Power': '--',\n",
            "                     'Type': 'Normal'},\n",
            "           'Inferno': {'Accuracy': 50,\n",
            "                       'Description': 'The user attacks by engulfing the '\n",
            "                                      'target in an intense fire. This leaves '\n",
            "                                      'the target with a burn.',\n",
            "                       'Effect %': 100,\n",
            "                       'Level': 43,\n",
            "                       'PP': 5,\n",
            "                       'Power': 100,\n",
            "                       'Type': 'Fire'},\n",
            "           'Scary Face': {'Accuracy': 100,\n",
            "                          'Description': 'The user frightens the target with a '\n",
            "                                         'scary face to harshly lower its '\n",
            "                                         'Speed stat.',\n",
            "                          'Effect %': '--',\n",
            "                          'Level': 40,\n",
            "                          'PP': 10,\n",
            "                          'Power': '--',\n",
            "                          'Type': 'Normal'},\n",
            "           'Scratch': {'Accuracy': 100,\n",
            "                       'Description': 'Hard, pointed, sharp claws rake the '\n",
            "                                      'target to inflict damage.',\n",
            "                       'Effect %': '--',\n",
            "                       'Level': '—',\n",
            "                       'PP': 35,\n",
            "                       'Power': 40,\n",
            "                       'Type': 'Normal'},\n",
            "           'Slash': {'Accuracy': 100,\n",
            "                     'Description': 'The target is attacked with a slash of '\n",
            "                                    'claws or blades. Critical hits land more '\n",
            "                                    'easily.',\n",
            "                     'Effect %': '--',\n",
            "                     'Level': 28,\n",
            "                     'PP': 20,\n",
            "                     'Power': 70,\n",
            "                     'Type': 'Normal'},\n",
            "           'Smokescreen': {'Accuracy': 100,\n",
            "                           'Description': 'The user releases an obscuring '\n",
            "                                          'cloud of smoke or ink. This lowers '\n",
            "                                          \"the target's accuracy.\",\n",
            "                           'Effect %': '--',\n",
            "                           'Level': 10,\n",
            "                           'PP': 20,\n",
            "                           'Power': '--',\n",
            "                           'Type': 'Normal'}},\n",
            " 'Name': 'Charmander',\n",
            " 'Sp. Attack': 60,\n",
            " 'Sp. Defense': 50,\n",
            " 'Speed': 65,\n",
            " 'Total': 309,\n",
            " 'Type 1': 'Fire',\n",
            " 'Type 2': 'None',\n",
            " 'Weight (kg)': 8.5,\n",
            " 'Weight (lbs)': 18.7,\n",
            " '_id': ObjectId('685b1f410a69551ca429d376')}\n"
          ]
        }
      ],
      "source": [
        "for pokemon in collection.find({'Name': 'Charmander'}):\n",
        "    pprint.pprint(pokemon)"
      ]
    },
    {
      "cell_type": "markdown",
      "metadata": {
        "id": "djZYDni4vEHK"
      },
      "source": [
        "Y si queremos proyectar algunos de sus atributos lo hacemos tal como si fuera un diccionario:"
      ]
    },
    {
      "cell_type": "code",
      "execution_count": 7,
      "metadata": {
        "colab": {
          "base_uri": "https://localhost:8080/"
        },
        "id": "VdjGX_wyvMEZ",
        "outputId": "823f687a-d2f6-470d-8da7-a4d3b5542518"
      },
      "outputs": [
        {
          "output_type": "stream",
          "name": "stdout",
          "text": [
            "100 ['Synchronize']\n"
          ]
        }
      ],
      "source": [
        "for pokemon in collection.find({'Name': 'Mew'}):\n",
        "    print(pokemon['Speed'],pokemon['Abilities'])"
      ]
    },
    {
      "cell_type": "markdown",
      "metadata": {
        "id": "I2VnDNwHuSxM"
      },
      "source": [
        "Recomendamos hechar un vistazo [aquí](https://docs.mongodb.com/manual/tutorial/query-documents/) para ver otros ejemplos de consultas que utilizarán en las siguientes preguntas:"
      ]
    },
    {
      "cell_type": "markdown",
      "metadata": {
        "id": "J_3DbzoAuvPu"
      },
      "source": [
        "#Pregunta 1\n",
        "Encuentre los nombre de los pokemons que pesen mas de 150kg.\n",
        "[Ordene](https://www.w3schools.com/python/python_mongodb_sort.asp) los resultados por peso descendiente"
      ]
    },
    {
      "cell_type": "code",
      "execution_count": 8,
      "metadata": {
        "id": "FIYMF7BSsYM5",
        "colab": {
          "base_uri": "https://localhost:8080/"
        },
        "outputId": "b0139a24-1054-4e89-ef39-79e20d9f7643"
      },
      "outputs": [
        {
          "output_type": "stream",
          "name": "stdout",
          "text": [
            "'Cosmoem'\n",
            "'Celesteela'\n",
            "'Groudon'\n",
            "'Mudsdale'\n",
            "'Guzzlord'\n",
            "'Stakataka'\n",
            "'Melmetal'\n",
            "'Giratina'\n",
            "'Dialga'\n",
            "'Metagross'\n",
            "'Avalugg'\n",
            "'Snorlax'\n",
            "'Heatran'\n",
            "'Regigigas'\n",
            "'Steelix'\n",
            "'Wailord'\n",
            "'Aggron'\n",
            "'Kyogre'\n",
            "'Zekrom'\n",
            "'Probopass'\n",
            "'Palkia'\n",
            "'Buzzwole'\n",
            "'Golurk'\n",
            "'Reshiram'\n",
            "'Kyurem'\n",
            "'Arceus'\n",
            "'Torterra'\n",
            "'Zygarde'\n",
            "'Golem'\n",
            "'Hippowdon'\n",
            "'Mamoswine'\n",
            "'Rhyperior'\n",
            "'Tyrantrum'\n",
            "'Gigalith'\n",
            "'Beartic'\n",
            "'Terrakion'\n",
            "'Glalie'\n",
            "'Hariyama'\n",
            "'Cobalion'\n",
            "'Palossand'\n",
            "'Gyarados'\n",
            "'Regirock'\n",
            "'Solgaleo'\n",
            "'Necrozma'\n",
            "'Aurorus'\n",
            "'Lapras'\n",
            "'Mantine'\n",
            "'Camerupt'\n",
            "'Lugia'\n",
            "'Xerneas'\n",
            "'Turtonator'\n",
            "'Onix'\n",
            "'Dragonite'\n",
            "'Dhelmise'\n",
            "'Rayquaza'\n",
            "'Registeel'\n",
            "'Yveltal'\n",
            "'Metang'\n",
            "'Tyranitar'\n",
            "'Scolipede'\n",
            "'Crustle'\n",
            "'Virizion'\n",
            "'Ho-Oh'\n",
            "'Entei'\n",
            "'Volcanion'\n",
            "'Suicune'\n",
            "'Bronzong'\n",
            "'Drampa'\n",
            "'Magnezone'\n",
            "'Crabominable'\n",
            "'Raikou'\n",
            "'Regice'\n",
            "'Lunatone'\n",
            "'Milotic'\n",
            "'Hydreigon'\n",
            "'Arcanine'\n",
            "'Solrock'\n",
            "'Kingdra'\n",
            "'Pupitar'\n",
            "'Walrein'\n",
            "'Goodra'\n"
          ]
        }
      ],
      "source": [
        "for pokemon in collection.find({'Weight (kg)': {'$gt': 150}}).sort('Weight (kg)', -1):\n",
        "    pprint.pprint(pokemon['Name'])"
      ]
    },
    {
      "cell_type": "markdown",
      "metadata": {
        "id": "QbgODMWRzjcX"
      },
      "source": [
        "#Pregunta 2\n",
        "Encuentre los nombres de los pokemones ''Glass cannon'', que son los que tienen ataque sobre 120 y defensa bajo 50."
      ]
    },
    {
      "cell_type": "code",
      "execution_count": 9,
      "metadata": {
        "id": "BAuRx2oZzwVf",
        "colab": {
          "base_uri": "https://localhost:8080/"
        },
        "outputId": "d8abaa7c-38e3-4f04-ddd0-1ee2fcefaf4d"
      },
      "outputs": [
        {
          "output_type": "stream",
          "name": "stdout",
          "text": [
            "'Cranidos'\n",
            "'Pheromosa'\n"
          ]
        }
      ],
      "source": [
        "for pokemon in collection.find({'Attack': {'$gt': 120}, 'Defense': {'$lt': 50}}):\n",
        "    pprint.pprint(pokemon['Name'])"
      ]
    },
    {
      "cell_type": "markdown",
      "metadata": {
        "id": "d7lB2vkh0yFq"
      },
      "source": [
        "#Pregunta 3\n",
        "Encuentre los pokemones \"defensivos\", que son los que tienen ya sea defensa, hp, o defensa especial (sp. defense) mayor o igual a 120."
      ]
    },
    {
      "cell_type": "code",
      "execution_count": 10,
      "metadata": {
        "id": "A1UwKkaE0Qv3",
        "colab": {
          "base_uri": "https://localhost:8080/"
        },
        "outputId": "b556b180-e640-493f-8bb4-31aa31cf4d3a"
      },
      "outputs": [
        {
          "output_type": "stream",
          "name": "stdout",
          "text": [
            "'Golem'\n",
            "'Cloyster'\n",
            "'Onix'\n",
            "'Weezing'\n",
            "'Rhydon'\n",
            "'Omastar'\n",
            "'Forretress'\n",
            "'Steelix'\n",
            "'Shuckle'\n",
            "'Magcargo'\n",
            "'Skarmory'\n",
            "'Donphan'\n",
            "'Lugia'\n",
            "'Nosepass'\n",
            "'Lairon'\n",
            "'Aggron'\n",
            "'Torkoal'\n",
            "'Dusclops'\n",
            "'Relicanth'\n",
            "'Regirock'\n",
            "'Registeel'\n",
            "'Metagross'\n",
            "'Groudon'\n",
            "'Bastiodon'\n",
            "'Rhyperior'\n",
            "'Tangrowth'\n",
            "'Gliscor'\n",
            "'Leafeon'\n",
            "'Probopass'\n",
            "'Dusknoir'\n",
            "'Uxie'\n",
            "'Dialga'\n",
            "'Cresselia'\n",
            "'Giratina'\n",
            "'Arceus'\n",
            "'Gigalith'\n",
            "'Crustle'\n",
            "'Cofagrigus'\n",
            "'Carracosta'\n",
            "'Ferrothorn'\n",
            "'Cobalion'\n",
            "'Zekrom'\n",
            "'Chesnaught'\n",
            "'Doublade'\n",
            "'Aegislash'\n",
            "'Carbink'\n",
            "'Gourgeist'\n",
            "'Avalugg'\n",
            "'Zygarde'\n",
            "'Diancie'\n",
            "'Volcanion'\n",
            "'Toxapex'\n",
            "'Golisopod'\n",
            "'Pyukumuku'\n",
            "'Turtonator'\n",
            "'Kommo-o'\n",
            "'Cosmoem'\n",
            "'Buzzwole'\n",
            "'Kartana'\n",
            "'Stakataka'\n",
            "'Melmetal'\n"
          ]
        }
      ],
      "source": [
        "for pokemon in collection.find({'$or': [{'Defense': {'$gte': 120}},{'Hp': {'$gte': 120}}, {'Sp. Defense': {'$gte': 120}}]}):\n",
        "    pprint.pprint(pokemon['Name'])"
      ]
    },
    {
      "cell_type": "markdown",
      "metadata": {
        "id": "vWKkWAl74R6O"
      },
      "source": [
        "#Pregunta 4\n",
        "Seleccione los pokemones que tienen el movimiento $\\texttt{Take Down}$ de nivel 15.\n",
        "\n",
        "**Hint**: Puede consultar en diccionarios embebidos concatenando las llaves con un punto \".\".\n",
        "\n",
        "Por ejemplo, para un dato:\n",
        "```\n",
        "[{\n",
        "  a: {\n",
        "    b: 'foo'\n",
        "  }\n",
        "}]\n",
        "```\n",
        "se puede consultar por los documentos tal que $\\texttt{b}$ sea $\\texttt{foo}$, escribiendo $\\texttt{collection.find({'a.b': 'foo'})}$."
      ]
    },
    {
      "cell_type": "code",
      "execution_count": 11,
      "metadata": {
        "id": "Y_cykeWb4DdT",
        "colab": {
          "base_uri": "https://localhost:8080/"
        },
        "outputId": "cababcec-dfdf-4fdb-fdc8-4dba2db185a2"
      },
      "outputs": [
        {
          "output_type": "stream",
          "name": "stdout",
          "text": [
            "'Bulbasaur'\n",
            "'Venusaur'\n",
            "'Ivysaur'\n",
            "'Rampardos'\n",
            "'Shieldon'\n",
            "'Bastiodon'\n",
            "'Cranidos'\n",
            "'Lillipup'\n",
            "'Herdier'\n",
            "'Stoutland'\n",
            "'Bunnelby'\n",
            "'Diggersby'\n",
            "'Amaura'\n",
            "'Aurorus'\n",
            "'Bergmite'\n",
            "'Avalugg'\n"
          ]
        }
      ],
      "source": [
        "for pokemon in collection.find({'Moves.Take Down.Level': 15}):\n",
        "    pprint.pprint(pokemon['Name'])"
      ]
    },
    {
      "cell_type": "markdown",
      "metadata": {
        "id": "MOD9S2hd2TNb"
      },
      "source": [
        "#Pregunta 5\n",
        "Seleccione los pokemones que tienen el movimiento $\\texttt{Take Down}$.\n",
        "\n",
        "**Hint**: Puede testear si es que una llave existe utilizando [$exists](https://docs.mongodb.com/manual/reference/operator/query/exists/)"
      ]
    },
    {
      "cell_type": "code",
      "execution_count": 12,
      "metadata": {
        "id": "CnhaYoEQ1TyT",
        "colab": {
          "base_uri": "https://localhost:8080/"
        },
        "outputId": "2b8207b7-ee51-4f4e-8d0f-aafab7b640b2"
      },
      "outputs": [
        {
          "output_type": "stream",
          "name": "stdout",
          "text": [
            "'Bulbasaur'\n",
            "'Venusaur'\n",
            "'Ivysaur'\n",
            "'Growlithe'\n",
            "'Ponyta'\n",
            "'Rapidash'\n",
            "'Seel'\n",
            "'Dewgong'\n",
            "'Rhyhorn'\n",
            "'Rhydon'\n",
            "'Chansey'\n",
            "'Tauros'\n",
            "'Eevee'\n",
            "'Aerodactyl'\n",
            "'Noctowl'\n",
            "'Chinchou'\n",
            "'Lanturn'\n",
            "'Hoothoot'\n",
            "'Mareep'\n",
            "'Flaaffy'\n",
            "'Ampharos'\n",
            "'Pineco'\n",
            "'Forretress'\n",
            "'Dunsparce'\n",
            "'Qwilfish'\n",
            "'Heracross'\n",
            "'Swinub'\n",
            "'Piloswine'\n",
            "'Mantine'\n",
            "'Phanpy'\n",
            "'Stantler'\n",
            "'Blissey'\n",
            "'Mudkip'\n",
            "'Marshtomp'\n",
            "'Swampert'\n",
            "'Poochyena'\n",
            "'Mightyena'\n",
            "'Zigzagoon'\n",
            "'Aron'\n",
            "'Lairon'\n",
            "'Aggron'\n",
            "'Carvanha'\n",
            "'Numel'\n",
            "'Camerupt'\n",
            "'Swablu'\n",
            "'Altaria'\n",
            "'Chimecho'\n",
            "'Luvdisc'\n",
            "'Beldum'\n",
            "'Metang'\n",
            "'Relicanth'\n",
            "'Metagross'\n",
            "'Starly'\n",
            "'Staraptor'\n",
            "'Staravia'\n",
            "'Bibarel'\n",
            "'Bidoof'\n",
            "'Rampardos'\n",
            "'Shieldon'\n",
            "'Bastiodon'\n",
            "'Cranidos'\n",
            "'Cherubi'\n",
            "'Cherrim'\n",
            "'Gible'\n",
            "'Gabite'\n",
            "'Garchomp'\n",
            "'Hippopotas'\n",
            "'Hippowdon'\n",
            "'Mantyke'\n",
            "'Rhyperior'\n",
            "'Mamoswine'\n",
            "'Tepig'\n",
            "'Pignite'\n",
            "'Emboar'\n",
            "'Lillipup'\n",
            "'Herdier'\n",
            "'Stoutland'\n",
            "'Audino'\n",
            "'Basculin'\n",
            "'Trubbish'\n",
            "'Deerling'\n",
            "'Sawsbuck'\n",
            "'Karrablast'\n",
            "'Larvesta'\n",
            "'Cobalion'\n",
            "'Virizion'\n",
            "'Terrakion'\n",
            "'Keldeo'\n",
            "'Chespin'\n",
            "'Quilladin'\n",
            "'Chesnaught'\n",
            "'Bunnelby'\n",
            "'Litleo'\n",
            "'Pyroar'\n",
            "'Skiddo'\n",
            "'Diggersby'\n",
            "'Gogoat'\n",
            "'Furfrou'\n",
            "'Amaura'\n",
            "'Aurorus'\n",
            "'Bergmite'\n",
            "'Xerneas'\n",
            "'Avalugg'\n",
            "'Volcanion'\n",
            "'Yungoos'\n",
            "'Gumshoos'\n",
            "'Wishiwashi'\n",
            "'Stufful'\n",
            "'Bewear'\n",
            "'Passimian'\n",
            "'Type: Null'\n",
            "'Silvally'\n",
            "'Minior'\n",
            "'Stakataka'\n"
          ]
        }
      ],
      "source": [
        "for pokemon in collection.find({'Moves.Take Down': { '$exists': True }}):\n",
        "    pprint.pprint(pokemon['Name'])"
      ]
    },
    {
      "cell_type": "markdown",
      "metadata": {
        "id": "fslrlRMV41jc"
      },
      "source": [
        "#Pregunta 6\n",
        "1. Seleccione los pokemones que tienen la habilidad $\\texttt{Telepathy}$\n"
      ]
    },
    {
      "cell_type": "code",
      "execution_count": 13,
      "metadata": {
        "id": "rIBpykKuENYH",
        "colab": {
          "base_uri": "https://localhost:8080/"
        },
        "outputId": "11c457b3-2b23-487d-94ba-565304f3c060"
      },
      "outputs": [
        {
          "output_type": "stream",
          "name": "stdout",
          "text": [
            "'Wobbuffet'\n",
            "'Ralts'\n",
            "'Gardevoir'\n",
            "'Kirlia'\n",
            "'Medicham'\n",
            "'Meditite'\n",
            "'Wynaut'\n",
            "'Dialga'\n",
            "'Palkia'\n",
            "'Giratina'\n",
            "'Musharna'\n",
            "'Munna'\n",
            "'Elgyem'\n",
            "'Beheeyem'\n",
            "'Noibat'\n",
            "'Noivern'\n",
            "'Oranguru'\n",
            "'Tapu Koko'\n",
            "'Tapu Lele'\n",
            "'Tapu Fini'\n",
            "'Tapu Bulu'\n"
          ]
        }
      ],
      "source": [
        "for pokemon in collection.find({'Abilities': 'Telepathy'}):\n",
        "    pprint.pprint(pokemon['Name'])"
      ]
    },
    {
      "cell_type": "markdown",
      "metadata": {
        "id": "Qwxi9yxdEDo6"
      },
      "source": [
        "2. Seleccione los pokemones que tienen la habilidad $\\texttt{Telepathy}$\n",
        " **y** $\\texttt{Synchronize}$ (pueden tener mas habilidades aparte de estas dos.\n",
        "\n",
        "   **Hint**: puede utilizar el operador [$all](https://docs.mongodb.com/manual/tutorial/query-arrays/) ."
      ]
    },
    {
      "cell_type": "code",
      "execution_count": null,
      "metadata": {
        "id": "oRIzCWC45HOb"
      },
      "outputs": [],
      "source": []
    },
    {
      "cell_type": "markdown",
      "metadata": {
        "id": "OXO4tdys9SuC"
      },
      "source": [
        "#Pregunta 7\n",
        "Para la siguiente pregunta vamos a crear un índice sobre la columna $\\texttt{Category}$."
      ]
    },
    {
      "cell_type": "code",
      "execution_count": 14,
      "metadata": {
        "colab": {
          "base_uri": "https://localhost:8080/",
          "height": 35
        },
        "id": "VM2gTzMA9-tl",
        "outputId": "9ade7e6a-c4a4-4e65-fb99-3524f5f2ba39"
      },
      "outputs": [
        {
          "output_type": "execute_result",
          "data": {
            "text/plain": [
              "'Category_text'"
            ],
            "application/vnd.google.colaboratory.intrinsic+json": {
              "type": "string"
            }
          },
          "metadata": {},
          "execution_count": 14
        }
      ],
      "source": [
        "collection.create_index([('Category', 'text')])"
      ]
    },
    {
      "cell_type": "markdown",
      "metadata": {
        "id": "_GhQq0Zc_Qbn"
      },
      "source": [
        "Usando el operador [$text](https://docs.mongodb.com/manual/text-search/) responda a las siguientes consultas.\n",
        "1.  Devuelva los nombres y categorías de los pokemons tales que su categoría contenga ya sea la palabra **Sea** o **Gas**."
      ]
    },
    {
      "cell_type": "code",
      "execution_count": 15,
      "metadata": {
        "id": "Y4W9G87Y9HzR",
        "colab": {
          "base_uri": "https://localhost:8080/"
        },
        "outputId": "1694730d-531e-486e-b044-b9a8ae383f9e"
      },
      "outputs": [
        {
          "output_type": "stream",
          "name": "stdout",
          "text": [
            "Gastly : Gas Pokémon\n",
            "Haunter : Gas Pokémon\n",
            "Weezing : Poison Gas Pokémon\n",
            "Koffing : Poison Gas Pokémon\n",
            "Dhelmise : Sea Creeper Pokémon\n",
            "Pyukumuku : Sea Cucumber Pokémon\n",
            "Popplio : Sea Lion Pokémon\n",
            "Oshawott : Sea Otter Pokémon\n",
            "Phione : Sea Drifter Pokémon\n",
            "Gastrodon : Sea Slug Pokémon\n",
            "Shellos : Sea Slug Pokémon\n",
            "Floatzel : Sea Weasel Pokémon\n",
            "Buizel : Sea Weasel Pokémon\n",
            "Kyogre : Sea Basin Pokémon\n",
            "Gorebyss : South Sea Pokémon\n",
            "Huntail : Deep Sea Pokémon\n",
            "Lileep : Sea Lily Pokémon\n",
            "Dewgong : Sea Lion Pokémon\n",
            "Seel : Sea Lion Pokémon\n"
          ]
        }
      ],
      "source": [
        "for pokemon in collection.find({'$text': {'$search': 'Sea Gas'}}):\n",
        "    print(pokemon['Name'], \":\", pokemon['Category'])"
      ]
    },
    {
      "cell_type": "markdown",
      "metadata": {
        "id": "m8PuYBiiCWwQ"
      },
      "source": [
        "2. Devuelva los nombres y categorías de los pokemons tales que su categoría contenga la palabra **Sea** y no **Deep**."
      ]
    },
    {
      "cell_type": "code",
      "execution_count": 16,
      "metadata": {
        "id": "PHdr_c-XCjdZ",
        "colab": {
          "base_uri": "https://localhost:8080/"
        },
        "outputId": "b14826a3-c93b-485e-b676-95f0d330d9b1"
      },
      "outputs": [
        {
          "output_type": "stream",
          "name": "stdout",
          "text": [
            "Dhelmise : Sea Creeper Pokémon\n",
            "Pyukumuku : Sea Cucumber Pokémon\n",
            "Popplio : Sea Lion Pokémon\n",
            "Oshawott : Sea Otter Pokémon\n",
            "Phione : Sea Drifter Pokémon\n",
            "Gastrodon : Sea Slug Pokémon\n",
            "Shellos : Sea Slug Pokémon\n",
            "Floatzel : Sea Weasel Pokémon\n",
            "Buizel : Sea Weasel Pokémon\n",
            "Kyogre : Sea Basin Pokémon\n",
            "Gorebyss : South Sea Pokémon\n",
            "Lileep : Sea Lily Pokémon\n",
            "Dewgong : Sea Lion Pokémon\n",
            "Seel : Sea Lion Pokémon\n"
          ]
        }
      ],
      "source": [
        "for pokemon in collection.find({'$text': {'$search': 'Sea -Deep'}}):\n",
        "    print(pokemon['Name'], \":\", pokemon['Category'])"
      ]
    },
    {
      "cell_type": "markdown",
      "metadata": {
        "id": "aaWgzFeSCrHN"
      },
      "source": [
        "3. Devuelva los nombres y categorías de los pokemons tales que su categoría contenga ambas palabras **Sea** y **Lion**."
      ]
    },
    {
      "cell_type": "code",
      "execution_count": 17,
      "metadata": {
        "id": "_D0QACY5CqgJ",
        "colab": {
          "base_uri": "https://localhost:8080/"
        },
        "outputId": "0fd9325b-3cf3-4b77-808c-b28a9df7efb0"
      },
      "outputs": [
        {
          "output_type": "stream",
          "name": "stdout",
          "text": [
            "Popplio : Sea Lion Pokémon\n",
            "Dewgong : Sea Lion Pokémon\n",
            "Seel : Sea Lion Pokémon\n"
          ]
        }
      ],
      "source": [
        "for pokemon in collection.find({'$text': {'$search': '\\\"Sea\\\" \\\"Lion\\\"'}}):\n",
        "    print(pokemon['Name'], \":\", pokemon['Category'])"
      ]
    }
  ],
  "metadata": {
    "colab": {
      "provenance": []
    },
    "kernelspec": {
      "display_name": "Python 3",
      "name": "python3"
    },
    "language_info": {
      "name": "python"
    }
  },
  "nbformat": 4,
  "nbformat_minor": 0
}